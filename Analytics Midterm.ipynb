{
 "cells": [
  {
   "cell_type": "code",
   "execution_count": 2,
   "id": "d8e64a7d",
   "metadata": {},
   "outputs": [],
   "source": [
    "import pandas as pd"
   ]
  },
  {
   "cell_type": "code",
   "execution_count": 10,
   "id": "396854a6",
   "metadata": {},
   "outputs": [],
   "source": [
    "marketing_data = pd.read_excel('marketing_data.xlsx')"
   ]
  },
  {
   "cell_type": "markdown",
   "id": "69f282f8",
   "metadata": {},
   "source": [
    "## Из каких регионов больше всего заявок?"
   ]
  },
  {
   "cell_type": "code",
   "execution_count": 13,
   "id": "5f497fe3",
   "metadata": {},
   "outputs": [],
   "source": [
    "df_converted = marketing_data[marketing_data['Конверсия'] == 1]"
   ]
  },
  {
   "cell_type": "code",
   "execution_count": 24,
   "id": "ff96a6eb",
   "metadata": {},
   "outputs": [
    {
     "data": {
      "text/plain": [
       "Krasnodar Krai    23849\n",
       "Stavropol Krai     1642\n",
       "Rostov Oblast      1160\n",
       "Moscow             1036\n",
       "Crimea              667\n",
       "Name: Region, dtype: int64"
      ]
     },
     "execution_count": 24,
     "metadata": {},
     "output_type": "execute_result"
    }
   ],
   "source": [
    "df_converted['Region'].value_counts()[:5]"
   ]
  },
  {
   "cell_type": "markdown",
   "id": "b7d0eb4f",
   "metadata": {},
   "source": [
    "### Мы видим, что кроме Краснодарского Края, основной объем заявок приходит из Ставропольского Края, Ростовской Области и Москвы."
   ]
  },
  {
   "cell_type": "markdown",
   "id": "cb12313f",
   "metadata": {},
   "source": [
    "## Какой средний процент отказов?"
   ]
  },
  {
   "cell_type": "code",
   "execution_count": 16,
   "id": "97b456bf",
   "metadata": {},
   "outputs": [],
   "source": [
    "df_bounced = marketing_data[marketing_data['Avg. Session Duration'] == 0]"
   ]
  },
  {
   "cell_type": "code",
   "execution_count": 18,
   "id": "27809258",
   "metadata": {},
   "outputs": [],
   "source": [
    "total_sessions = marketing_data['Sessions'].sum()"
   ]
  },
  {
   "cell_type": "code",
   "execution_count": 19,
   "id": "62953f90",
   "metadata": {},
   "outputs": [],
   "source": [
    "bounced_sessions = df_bounced['Sessions'].sum()"
   ]
  },
  {
   "cell_type": "code",
   "execution_count": 20,
   "id": "6b8f17b5",
   "metadata": {},
   "outputs": [
    {
     "name": "stdout",
     "output_type": "stream",
     "text": [
      "0.338590943587149\n"
     ]
    }
   ],
   "source": [
    "bounce_rate = bounced_sessions / total_sessions\n",
    "print(bounce_rate)"
   ]
  },
  {
   "cell_type": "markdown",
   "id": "655a5cb9",
   "metadata": {},
   "source": [
    " ### 33.8% сессий имели нулевую продолжительность."
   ]
  },
  {
   "cell_type": "markdown",
   "id": "a4176b4c",
   "metadata": {},
   "source": [
    "## С каких устройств чаще заходят на сайты?"
   ]
  },
  {
   "cell_type": "code",
   "execution_count": 21,
   "id": "b257c498",
   "metadata": {},
   "outputs": [
    {
     "data": {
      "text/plain": [
       "mobile     39465\n",
       "desktop    24630\n",
       "tablet      2067\n",
       "Name: Device Category, dtype: int64"
      ]
     },
     "execution_count": 21,
     "metadata": {},
     "output_type": "execute_result"
    }
   ],
   "source": [
    "marketing_data['Device Category'].value_counts()"
   ]
  },
  {
   "cell_type": "markdown",
   "id": "b49ef96d",
   "metadata": {},
   "source": [
    "### Большинство заходят с мобильных телефонов."
   ]
  },
  {
   "cell_type": "markdown",
   "id": "70512d86",
   "metadata": {},
   "source": [
    "## Какие источники наиболее конвертируемые?"
   ]
  },
  {
   "cell_type": "code",
   "execution_count": 23,
   "id": "23458220",
   "metadata": {},
   "outputs": [
    {
     "data": {
      "text/plain": [
       "google                18099\n",
       "yandex.ru             11351\n",
       "YANDEX                10236\n",
       "(direct)               9423\n",
       "BMW-keyauto-krd.ru     8272\n",
       "Name: Source conv., dtype: int64"
      ]
     },
     "execution_count": 23,
     "metadata": {},
     "output_type": "execute_result"
    }
   ],
   "source": [
    "marketing_data['Source conv.'].value_counts()[:5]"
   ]
  },
  {
   "cell_type": "markdown",
   "id": "a6566b7b",
   "metadata": {},
   "source": [
    "### Больше всего конверсий приносят google и yandex."
   ]
  },
  {
   "attachments": {},
   "cell_type": "markdown",
   "id": "af50b34a",
   "metadata": {},
   "source": [
    "## Каких показателей не хватает, чтобы посчитать чистую прибыль?"
   ]
  },
  {
   "cell_type": "markdown",
   "id": "d35a91b9",
   "metadata": {},
   "source": [
    "### У нас нет точных данных продаж из CRM, а также данных о постоянных издержках (ФОТ, аренда, коммунальные услуги). Также нет данных о налогах."
   ]
  }
 ],
 "metadata": {
  "kernelspec": {
   "display_name": "Python 3 (ipykernel)",
   "language": "python",
   "name": "python3"
  },
  "language_info": {
   "codemirror_mode": {
    "name": "ipython",
    "version": 3
   },
   "file_extension": ".py",
   "mimetype": "text/x-python",
   "name": "python",
   "nbconvert_exporter": "python",
   "pygments_lexer": "ipython3",
   "version": "3.9.13"
  }
 },
 "nbformat": 4,
 "nbformat_minor": 5
}
